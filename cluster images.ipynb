{
 "cells": [
  {
   "cell_type": "markdown",
   "metadata": {},
   "source": [
    "# Image Clustering Analysis with PCA\n",
    "This notebook implements an image clustering pipeline that:\n",
    "1. Loads PNG images\n",
    "2. Extracts features from the images\n",
    "3. Applies PCA for dimensionality reduction\n",
    "4. Uses elbow and silhouette methods to identify the # of clusters to use\n",
    "4. Performs K-means clustering\n",
    "5. Visualizes the clustering results"
   ]
  },
  {
   "cell_type": "markdown",
   "metadata": {},
   "source": [
    "## Step 1 - Setup\n",
    "First, let's install the required packages. Here are some ways to do this.\n",
    "\n",
    "- In VS Code also offers these useful commands:\n",
    "    - Ctrl+Shift+P (Windows/Linux) or Cmd+Shift+P (macOS)\n",
    "    - Type \"Python: Create Environment...\"\n",
    "    - Select Venv as the virtual environment type\n",
    "    - Select the latest python interpreter 3.11.3 64-bit\n",
    "    - Select requirements.txt"
   ]
  },
  {
   "cell_type": "markdown",
   "metadata": {},
   "source": [
    "## Step 2 - Import Dependencies"
   ]
  },
  {
   "cell_type": "code",
   "execution_count": 32,
   "metadata": {},
   "outputs": [],
   "source": [
    "import cv2\n",
    "import os\n",
    "import numpy as np\n",
    "from sklearn.cluster import KMeans\n",
    "from sklearn.decomposition import PCA\n",
    "from sklearn.metrics import silhouette_score\n",
    "import matplotlib.pyplot as plt\n",
    "\n",
    "# Configure matplotlib for inline display\n",
    "%matplotlib inline"
   ]
  },
  {
   "cell_type": "markdown",
   "metadata": {},
   "source": [
    "## Step 3 - Load the images\n",
    "First, define some initial functions required to load the images."
   ]
  },
  {
   "cell_type": "code",
   "execution_count": 33,
   "metadata": {},
   "outputs": [],
   "source": [
    "def extract_features(image_path):\n",
    "    # Load image using OpenCV\n",
    "    image = cv2.imread(image_path)\n",
    "    # Resize image to a fixed size\n",
    "    resized_image = cv2.resize(image, (100, 100))\n",
    "    # Flatten the image into a 1D array\n",
    "    flattened_image = resized_image.flatten()\n",
    "\n",
    "    return flattened_image\n",
    "\n",
    "def load_images(folder_path):\n",
    "    image_paths = [os.path.join(folder_path, f) for f in os.listdir(folder_path) if f.endswith('.png')]\n",
    "    images = [extract_features(image_path) for image_path in image_paths]\n",
    "    return image_paths, np.array(images)\n"
   ]
  },
  {
   "cell_type": "markdown",
   "metadata": {},
   "source": [
    "Next, load the images."
   ]
  },
  {
   "cell_type": "code",
   "execution_count": 34,
   "metadata": {},
   "outputs": [],
   "source": [
    "# set the input path\n",
    "input_path = \"./images\"\n",
    "\n",
    "image_paths, images = load_images(input_path)"
   ]
  },
  {
   "cell_type": "markdown",
   "metadata": {},
   "source": [
    "## Step 4 - Use PCA to reduce dimensionality\n",
    "Use PCA to reduce the dimensionality of the images and display a chart highlighting the differences between the dimensions."
   ]
  },
  {
   "cell_type": "code",
   "execution_count": null,
   "metadata": {},
   "outputs": [],
   "source": [
    "pca = PCA(n_components=50)\n",
    "reduced_images = pca.fit_transform(images)\n",
    "\n",
    "# Plot the PCA variances\n",
    "explained_variances = pca.explained_variance_ratio_\n",
    "\n",
    "plt.figure(figsize=(12, 6))\n",
    "plt.bar(range(1, len(explained_variances) + 1), explained_variances, color='skyblue')\n",
    "plt.xlabel('Principal Component')\n",
    "plt.ylabel('Explained Variance (%)')\n",
    "plt.title('Explained Variance by Principal Component')\n",
    "plt.xticks(range(1, len(explained_variances) + 1))\n",
    "plt.grid(axis='y', linestyle='--', alpha=0.7)\n",
    "plt.show()"
   ]
  },
  {
   "cell_type": "markdown",
   "metadata": {},
   "source": [
    "## Step 5 - Determine how many clusters to use\n",
    "Determine the number of clusters to use by comparing the elbow and silhouette methods."
   ]
  },
  {
   "cell_type": "markdown",
   "metadata": {},
   "source": [
    "First, let's use the elbow method."
   ]
  },
  {
   "cell_type": "code",
   "execution_count": null,
   "metadata": {},
   "outputs": [],
   "source": [
    "# Set the maximum clusters to consider\n",
    "max_clusters = 10\n",
    "\n",
    "wcss = []  # Within-cluster sum of squares\n",
    "\n",
    "for i in range(1, max_clusters + 1):\n",
    "    kmeans = KMeans(n_clusters=i, init='k-means++', random_state=42)\n",
    "    kmeans.fit(reduced_images)\n",
    "    wcss.append(kmeans.inertia_)\n",
    "\n",
    "# Plot the elbow curve\n",
    "plt.figure(figsize=(10, 6))\n",
    "plt.plot(range(1, max_clusters + 1), wcss, marker='o', linestyle='--')\n",
    "plt.title('Elbow Method')\n",
    "plt.xlabel('Number of Clusters')\n",
    "plt.ylabel('Within-Cluster Sum of Squares (WCSS)')\n",
    "plt.xticks(np.arange(1, max_clusters + 1))\n",
    "plt.grid(True)\n",
    "plt.show()"
   ]
  },
  {
   "cell_type": "markdown",
   "metadata": {},
   "source": [
    "Now let's try the silhouette method."
   ]
  },
  {
   "cell_type": "code",
   "execution_count": null,
   "metadata": {},
   "outputs": [],
   "source": [
    "# Set the maximum clusters to consider\n",
    "max_clusters = 10\n",
    "\n",
    "silhouette_scores = []  # Silhouette scores\n",
    "\n",
    "for i in range(2, max_clusters + 1):\n",
    "    kmeans = KMeans(n_clusters=i, init='k-means++', random_state=42)\n",
    "    kmeans.fit(reduced_images)\n",
    "    labels = kmeans.labels_\n",
    "    silhouette_scores.append(silhouette_score(reduced_images, labels))\n",
    "\n",
    "# Plot the silhouette scores\n",
    "plt.figure(figsize=(10, 6))\n",
    "plt.plot(range(2, max_clusters + 1), silhouette_scores, marker='o', linestyle='--')\n",
    "plt.title('Silhouette Method')\n",
    "plt.xlabel('Number of Clusters')\n",
    "plt.ylabel('Silhouette Score')\n",
    "plt.xticks(np.arange(2, max_clusters + 1))\n",
    "plt.grid(True)\n",
    "plt.show()"
   ]
  },
  {
   "cell_type": "markdown",
   "metadata": {},
   "source": [
    "## Step 6 - Cluster the images using K-Means"
   ]
  },
  {
   "cell_type": "markdown",
   "metadata": {},
   "source": [
    "Cluster and chart the images based on the numbers of clusters suggested through the elbow and silhouette methods."
   ]
  },
  {
   "cell_type": "code",
   "execution_count": null,
   "metadata": {},
   "outputs": [],
   "source": [
    "# Set the number of clusters to cluster by\n",
    "num_clusters = 5\n",
    "\n",
    "# Cluster images using K-means\n",
    "kmeans = KMeans(n_clusters=num_clusters)\n",
    "kmeans.fit(reduced_images)\n",
    "labels = kmeans.fit_predict(reduced_images)\n",
    "\n",
    "# Plot clusters on a scatter plot\n",
    "plt.figure(figsize=(8, 6))\n",
    "for i in range(len(np.unique(labels))):\n",
    "    plt.scatter(reduced_images[labels == i, 0], reduced_images[labels == i, 1], label=f'Cluster {i}')\n",
    "    \n",
    "plt.title('Cluster Visualization')\n",
    "plt.xlabel('Principal Component 1')\n",
    "plt.ylabel('Principal Component 2')\n",
    "plt.legend()\n",
    "plt.show()"
   ]
  },
  {
   "cell_type": "markdown",
   "metadata": {},
   "source": [
    "## Next Steps\n",
    "You might want to try...\n",
    "- Adjusting the number of clusters to identify groupings\n",
    "- Create a collage of thumbnails of the initial images\n",
    "- Visualize the images by cluster to verify the groupings"
   ]
  }
 ],
 "metadata": {
  "kernelspec": {
   "display_name": ".venv",
   "language": "python",
   "name": "python3"
  },
  "language_info": {
   "codemirror_mode": {
    "name": "ipython",
    "version": 3
   },
   "file_extension": ".py",
   "mimetype": "text/x-python",
   "name": "python",
   "nbconvert_exporter": "python",
   "pygments_lexer": "ipython3",
   "version": "3.11.3"
  }
 },
 "nbformat": 4,
 "nbformat_minor": 2
}
